{
 "cells": [
  {
   "cell_type": "code",
   "execution_count": 11,
   "metadata": {},
   "outputs": [],
   "source": [
    "#Importing all libraries that will allow us to use extra functionalities\n",
    "import cv2\n",
    "import numpy as np\n",
    "from PIL import Image\n",
    "import traceback\n",
    "import os\n",
    "\n",
    "from os.path import isfile, join"
   ]
  },
  {
   "cell_type": "code",
   "execution_count": 12,
   "metadata": {},
   "outputs": [],
   "source": [
    "#Shanzay Asad 19I-1998\n",
    "\n",
    "#References\n",
    "#case study 6 - author, akhtar jamil\n",
    "#GeeksforGeeks\n",
    "#https://stackoverflow.com/questions/44947505/how-to-make-a-movie-out-of-images-in-python\n",
    "\n",
    "#The logic behind this module is simple, we first load our desired video and save each frame that occurs.\n",
    "#After valid processing on ALL the frames we have to finalise our animated video.\n",
    "#To achieve a stop motion type look we'll re-establish our video but this time while skipping some frames\n",
    "#This will help is in creating an animation and also lessen the total amount of frames in our video"
   ]
  },
  {
   "cell_type": "code",
   "execution_count": 13,
   "metadata": {},
   "outputs": [],
   "source": [
    "path = 'cat.mp4' #Creating a variable to store the path of our desired video\n",
    "outpath = '/home/anzay/Desktop/DIP/Project'\n",
    "# For camera use camera port ID like 0 \n",
    "# For video use Video Path as string\n",
    "vidcap = cv2.VideoCapture(path)\n",
    "success,image = vidcap.read()\n",
    "count = 0\n",
    "while success:\n",
    "  cv2.imwrite(\"frame%d.jpg\" % count, image) # save frame as JPEG file      \n",
    "  success,image = vidcap.read()\n",
    "  count += 1"
   ]
  },
  {
   "cell_type": "code",
   "execution_count": 14,
   "metadata": {},
   "outputs": [],
   "source": [
    "image_folder = outpath # make sure to use your folder\n",
    "video_name = 'output.avi'\n",
    "os.chdir(outpath)\n",
    "      \n",
    "images = [img for img in os.listdir(image_folder)\n",
    "              if img.endswith(\".jpg\") or\n",
    "                 img.endswith(\".jpeg\") or\n",
    "                 img.endswith(\"png\")]\n",
    "\n",
    "# Array images should only consider\n",
    "# the image files ignoring others if any\n",
    "images.sort()\n",
    "#print(images) \n",
    "\n",
    "frame = cv2.imread(os.path.join(image_folder, images[0]))\n",
    "  \n",
    "    # setting the frame width, height width\n",
    "    # the width, height of first image\n",
    "height, width, layers = frame.shape  \n",
    "  \n",
    "video = cv2.VideoWriter(video_name, 0, 1, (width, height)) \n",
    "  \n",
    "    # Appending the images to the video one by one\n",
    "count = 0\n",
    "for image in images: \n",
    "    if count % 5 == 0:\n",
    "        video.write(cv2.imread(os.path.join(image_folder, image))) \n",
    "    count += 1\n",
    "      \n",
    "    # Deallocating memories taken for window creation\n",
    "cv2.destroyAllWindows() \n",
    "video.release()  # releasing the video generated"
   ]
  },
  {
   "cell_type": "code",
   "execution_count": null,
   "metadata": {},
   "outputs": [],
   "source": []
  },
  {
   "cell_type": "code",
   "execution_count": null,
   "metadata": {},
   "outputs": [],
   "source": []
  }
 ],
 "metadata": {
  "kernelspec": {
   "display_name": "Python 3",
   "language": "python",
   "name": "python3"
  },
  "language_info": {
   "codemirror_mode": {
    "name": "ipython",
    "version": 3
   },
   "file_extension": ".py",
   "mimetype": "text/x-python",
   "name": "python",
   "nbconvert_exporter": "python",
   "pygments_lexer": "ipython3",
   "version": "3.8.10"
  }
 },
 "nbformat": 4,
 "nbformat_minor": 4
}
